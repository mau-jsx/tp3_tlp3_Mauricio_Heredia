{
 "cells": [
  {
   "cell_type": "markdown",
   "id": "498731c6",
   "metadata": {},
   "source": [
    "# Trabajo Practico n3 - Trabajando con Lists y Sets.\n",
    "## Criterios de evaluación.\n",
    "\n",
    "* Se deben utilizar nombres de variables descriptivos y claros (Utilizar la nomeclatura correspondiente para los nombres de variables).\n",
    "* Comentarios claros y concisos que expliquen el propósito de cada sección del código.\n",
    "* Utilizar mensajes de commit **descriptivos**. (Puedes utilizar la extension CONVENTIONAL COMMIT de VS-CODE). \n",
    "* Entrega en tiempo y forma.\n",
    "* Todo el código desarrollado debe ser subido a un repositorio en GitHub (el nombre del repositorio de seguir la siguiente estructura: tp3_tlp3_nombre_apellido).\n",
    "* Para resolver las actividades se debe insertar casillas de codigo entre cada actividad del cuaderno de Jupyter\n",
    "* El repositorio de GitHub debe incluir un archivo README.md con las instrucciones necesarias para la correcta ejecución del código.\n",
    "\n",
    "### ¡Importante!\n",
    "**El incumplimiento de los criterios de evaluación restará puntos en la nota final del práctico!**"
   ]
  },
  {
   "cell_type": "markdown",
   "id": "b361a7b6",
   "metadata": {},
   "source": [
    "### Actividad 1: \n",
    "Suma de todos los elementos de una lista, utilizando bucles repetitivos (for, while)."
   ]
  },
  {
   "cell_type": "code",
   "execution_count": 12,
   "id": "26009294",
   "metadata": {},
   "outputs": [
    {
     "name": "stdout",
     "output_type": "stream",
     "text": [
      "La suma total de los elementos es: 204\n"
     ]
    }
   ],
   "source": [
    "lista_numeros = [14, 23, 34, 48, 85]\n",
    "def sumar_todos_los_numeros(numeros):\n",
    "    \"\"\"\n",
    "    Esta función recibe una lista de números y devuelve la suma total de sus elementos.\n",
    "    \n",
    "    Parámetros:\n",
    "    numeros (list): Lista de números enteros a sumar.\n",
    "    \n",
    "    Retorna:\n",
    "    int: La suma de todos los elementos de la lista.\n",
    "    \"\"\"\n",
    "    suma_total = 0 \n",
    "    for numero in numeros:\n",
    "        suma_total += numero \n",
    "    \n",
    "    return suma_total\n",
    "resultado = sumar_todos_los_numeros(lista_numeros)\n",
    "print(f\"La suma total de los elementos es: {resultado}\")"
   ]
  },
  {
   "cell_type": "markdown",
   "id": "0c239195",
   "metadata": {},
   "source": [
    "### Actividad 2: \n",
    "Encontrar el número más grande en una lista, utilizando bucles repetitivos (for, while)."
   ]
  },
  {
   "cell_type": "code",
   "execution_count": 17,
   "id": "3611d25a",
   "metadata": {},
   "outputs": [
    {
     "name": "stdout",
     "output_type": "stream",
     "text": [
      "Números generados aleatoriamente: [21, 24, 80, 11, 52]\n",
      "El número más grande de la lista es: 80\n"
     ]
    }
   ],
   "source": [
    "from random import randint\n",
    "numeros_aleatorios = [randint(1, 100) for _ in range(5)]\n",
    "\n",
    "def encontrar_maximo(lista_numeros):\n",
    "    \"\"\"\n",
    "    Esta función recorre una lista de números y devuelve el valor máximo encontrado.\n",
    "    \n",
    "    Parámetros:\n",
    "    lista_numeros (list): Lista de números enteros.\n",
    "    \n",
    "    Retorna:\n",
    "    int: El número más grande de la lista.\n",
    "    \"\"\"\n",
    "    if not lista_numeros:\n",
    "        return None\n",
    "    numero_maximo = lista_numeros[0]\n",
    "    for numero in lista_numeros:\n",
    "        if numero > numero_maximo:\n",
    "            numero_maximo = numero  \n",
    "    return numero_maximo\n",
    "print(f\"Números generados aleatoriamente: {numeros_aleatorios}\")\n",
    "print(f\"El número más grande de la lista es: {encontrar_maximo(numeros_aleatorios)}\")\n"
   ]
  },
  {
   "cell_type": "markdown",
   "id": "70a24b97",
   "metadata": {},
   "source": [
    "### Actividad 3:\n",
    "Contar cuántas veces aparece un número específico. Utiliza estructuras repetitivas para la resolucion de este ejercicio. "
   ]
  },
  {
   "cell_type": "code",
   "execution_count": null,
   "id": "a9c8ebc7",
   "metadata": {},
   "outputs": [],
   "source": [
    "from random import randint\n",
    "lista_aleatoria = [randint(1, 200) for _ in range(20)]\n",
    "numero_buscado = int(input(\"Ingrese el número que desea contar en la lista: \"))\n",
    "\n",
    "def contar_apariciones(lista, numero_objetivo):\n",
    "    \"\"\"\n",
    "    Cuenta cuántas veces aparece un número específico en una lista.\n",
    "    \n",
    "    Parámetros:\n",
    "    lista (list): Lista de números enteros.\n",
    "    numero_objetivo (int): Número que se desea contar dentro de la lista.\n",
    "    \n",
    "    Retorna:\n",
    "    int: Cantidad de veces que aparece el número en la lista.\n",
    "    \"\"\"\n",
    "    contador = 0 \n",
    "    for numero in lista:\n",
    "        if numero == numero_objetivo:\n",
    "            contador += 1  \n",
    "    return contador\n",
    "print(f\"Lista generada: {lista_aleatoria}\")\n",
    "cantidad = contar_apariciones(lista_aleatoria, numero_buscado)\n",
    "print(f\"El número {numero_buscado} aparece {cantidad} vez/veces en la lista.\")\n"
   ]
  },
  {
   "cell_type": "markdown",
   "id": "b8dac397",
   "metadata": {},
   "source": [
    "### Actividad 4: \n",
    "Invertir una lista sin usar reverse() ni [::-1]"
   ]
  },
  {
   "cell_type": "code",
   "execution_count": null,
   "id": "d04fd492",
   "metadata": {},
   "outputs": [],
   "source": [
    "\n",
    "# todo:\n",
    "\n",
    "lists_two = [randint(1, 50) for i in range(8)]"
   ]
  },
  {
   "cell_type": "markdown",
   "id": "8889d0f2",
   "metadata": {},
   "source": [
    "### Actividad 5:\n",
    "Sumar los elementos de dos listas posición por posición, utilizando solo bucles repetititivos (for,while)."
   ]
  },
  {
   "cell_type": "code",
   "execution_count": null,
   "id": "bc0ec844",
   "metadata": {},
   "outputs": [],
   "source": [
    "\n",
    "# todo:\n",
    "\n",
    "lists_one = [ 2,4,6,7,8 ]\n",
    "lists_two = [ 1,3,5,9,10 ]"
   ]
  },
  {
   "cell_type": "markdown",
   "id": "8ce33e6b",
   "metadata": {},
   "source": [
    "### Actividad 6:\n",
    "\n",
    "Escribir un programa que almacene el abecedario en una lista, elimine de la lista las letras que ocupen posiciones múltiplos de 3, y muestre por pantalla la lista resultante."
   ]
  },
  {
   "cell_type": "code",
   "execution_count": null,
   "id": "b07326e2",
   "metadata": {},
   "outputs": [],
   "source": [
    "\n",
    "# todo:"
   ]
  },
  {
   "cell_type": "markdown",
   "id": "5bfeb4b5",
   "metadata": {},
   "source": [
    "### Actividad 7:\n",
    "\n",
    "Escribir un programa que pida al usuario una palabra y muestre por pantalla si es un palíndromo (una palabra que se escribe de la misma forma al derecho y al reves)."
   ]
  },
  {
   "cell_type": "code",
   "execution_count": null,
   "id": "2365afcc",
   "metadata": {},
   "outputs": [],
   "source": [
    "\n",
    "# todo:"
   ]
  },
  {
   "cell_type": "markdown",
   "id": "ed8b51be",
   "metadata": {},
   "source": [
    "### Actividad 8:\n",
    "\n",
    "Teniendo en cuenta el conjunto 1 y el conjunto 2, sin usar el operador de intersección &, calcular la intersección de dichos conjuntos."
   ]
  },
  {
   "cell_type": "code",
   "execution_count": null,
   "id": "21a434b9",
   "metadata": {},
   "outputs": [],
   "source": [
    "conjunto1 = {1, 2, 3, 4}\n",
    "conjunto2 = {3, 4, 5, 6}\n",
    "# todo:"
   ]
  },
  {
   "cell_type": "markdown",
   "id": "31b460dc",
   "metadata": {},
   "source": [
    "### Actividad 9:\n",
    "Eliminar duplicados de una lista usando un set."
   ]
  },
  {
   "cell_type": "code",
   "execution_count": null,
   "id": "0ef62008",
   "metadata": {},
   "outputs": [],
   "source": [
    "\n",
    "# todo:\n",
    "lista = [1, 2, 2, 3, 4, 4, 5]\n"
   ]
  },
  {
   "cell_type": "markdown",
   "id": "075f1f2c",
   "metadata": {},
   "source": [
    "### Actividad 10:\n",
    "\n",
    "Escribir un programa que cree 2 matrices y realice su multiplicacion."
   ]
  },
  {
   "cell_type": "code",
   "execution_count": null,
   "id": "4c1fd0e1",
   "metadata": {},
   "outputs": [],
   "source": [
    "\n",
    "# todo:"
   ]
  }
 ],
 "metadata": {
  "kernelspec": {
   "display_name": "Python 3",
   "language": "python",
   "name": "python3"
  },
  "language_info": {
   "codemirror_mode": {
    "name": "ipython",
    "version": 3
   },
   "file_extension": ".py",
   "mimetype": "text/x-python",
   "name": "python",
   "nbconvert_exporter": "python",
   "pygments_lexer": "ipython3",
   "version": "3.13.2"
  }
 },
 "nbformat": 4,
 "nbformat_minor": 5
}
